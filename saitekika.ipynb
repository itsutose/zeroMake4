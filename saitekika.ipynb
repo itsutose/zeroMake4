{
 "cells": [
  {
   "cell_type": "code",
   "execution_count": 3,
   "metadata": {},
   "outputs": [
    {
     "name": "stdout",
     "output_type": "stream",
     "text": [
      "5\n",
      "1\n",
      "6\n",
      "4\n",
      "3\n",
      "5\n",
      "1\n",
      "6\n",
      "4\n",
      "3\n",
      "5\n",
      "1\n",
      "6\n",
      "4\n",
      "3\n",
      "5\n",
      "1\n",
      "6\n",
      "4\n",
      "3\n",
      "5\n",
      "1\n",
      "6\n",
      "4\n",
      "3\n"
     ]
    }
   ],
   "source": [
    "from collections import defaultdict\n",
    "\n",
    "a = [6, 7, 8, 1, 4]\n",
    "bind = 12\n",
    "\n",
    "bs = [3, 4, 6, 1, 5]\n",
    "\n",
    "max = 0\n",
    "V = {0,[0,0,0,0,0]}\n",
    "\n",
    "for k in range(1, len(a) + 1):\n",
    "    for b in reversed(bs):\n",
    "        \n",
    "        if b >= :\n",
    "            break\n",
    "        # a[k]\n",
    "        # V[k + 1] = max(V[k-1], a[k] + V[k - a[k]])\n"
   ]
  },
  {
   "cell_type": "code",
   "execution_count": null,
   "metadata": {},
   "outputs": [],
   "source": []
  }
 ],
 "metadata": {
  "kernelspec": {
   "display_name": "base",
   "language": "python",
   "name": "python3"
  },
  "language_info": {
   "codemirror_mode": {
    "name": "ipython",
    "version": 3
   },
   "file_extension": ".py",
   "mimetype": "text/x-python",
   "name": "python",
   "nbconvert_exporter": "python",
   "pygments_lexer": "ipython3",
   "version": "3.10.9"
  },
  "orig_nbformat": 4
 },
 "nbformat": 4,
 "nbformat_minor": 2
}
