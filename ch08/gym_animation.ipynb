{
 "cells": [
  {
   "cell_type": "code",
   "execution_count": 1,
   "metadata": {},
   "outputs": [
    {
     "name": "stdout",
     "output_type": "stream",
     "text": [
      "49\n"
     ]
    },
    {
     "data": {
      "text/plain": [
       "Text(0.5, 0.98, 'Cart Pole')"
      ]
     },
     "execution_count": 1,
     "metadata": {},
     "output_type": "execute_result"
    },
    {
     "data": {
      "text/plain": [
       "<Figure size 900x700 with 0 Axes>"
      ]
     },
     "metadata": {},
     "output_type": "display_data"
    }
   ],
   "source": [
    "import numpy as np\n",
    "import matplotlib.pyplot as plt\n",
    "from matplotlib.animation import FuncAnimation\n",
    "import gym\n",
    "\n",
    "\n",
    "# 状態として利用する値を指定\n",
    "position_vals = np.arange(-2.4, 2.41, step=0.1).round(1) # カートの位置\n",
    "angle_vals = np.arange(-3.1, 3.11, step=0.1).round(1) # ポールの角度\n",
    "\n",
    "# フレーム数を設定\n",
    "frame_num = len(position_vals)\n",
    "#frame_num = len(angle_vals)\n",
    "print(frame_num)\n",
    "\n",
    "# 図を初期化\n",
    "fig = plt.figure(figsize=(9, 7), facecolor='white')\n",
    "fig.suptitle('Cart Pole', fontsize=20)"
   ]
  },
  {
   "cell_type": "code",
   "execution_count": 6,
   "metadata": {},
   "outputs": [
    {
     "name": "stdout",
     "output_type": "stream",
     "text": [
      "49 position_vals :\n",
      " [-2.4 -2.3 -2.2 -2.1 -2.  -1.9 -1.8 -1.7 -1.6 -1.5 -1.4 -1.3 -1.2 -1.1\n",
      " -1.  -0.9 -0.8 -0.7 -0.6 -0.5 -0.4 -0.3 -0.2 -0.1  0.   0.1  0.2  0.3\n",
      "  0.4  0.5  0.6  0.7  0.8  0.9  1.   1.1  1.2  1.3  1.4  1.5  1.6  1.7\n",
      "  1.8  1.9  2.   2.1  2.2  2.3  2.4]\n",
      "63 angle_vals :\n",
      " [-3.1 -3.  -2.9 -2.8 -2.7 -2.6 -2.5 -2.4 -2.3 -2.2 -2.1 -2.  -1.9 -1.8\n",
      " -1.7 -1.6 -1.5 -1.4 -1.3 -1.2 -1.1 -1.  -0.9 -0.8 -0.7 -0.6 -0.5 -0.4\n",
      " -0.3 -0.2 -0.1  0.   0.1  0.2  0.3  0.4  0.5  0.6  0.7  0.8  0.9  1.\n",
      "  1.1  1.2  1.3  1.4  1.5  1.6  1.7  1.8  1.9  2.   2.1  2.2  2.3  2.4\n",
      "  2.5  2.6  2.7  2.8  2.9  3.   3.1]\n"
     ]
    }
   ],
   "source": [
    "print(f\"{len(position_vals)} position_vals :\\n\",position_vals)\n",
    "print(f\"{len(angle_vals)} angle_vals :\\n\",angle_vals)"
   ]
  },
  {
   "cell_type": "code",
   "execution_count": 14,
   "metadata": {},
   "outputs": [
    {
     "name": "stderr",
     "output_type": "stream",
     "text": [
      "MovieWriter ffmpeg unavailable; using Pillow instead.\n"
     ]
    },
    {
     "name": "stdout",
     "output_type": "stream",
     "text": [
      "<class 'gym.wrappers.time_limit.TimeLimit'>\n",
      "<class 'gym.wrappers.order_enforcing.OrderEnforcing'>\n",
      "<class 'gym.wrappers.env_checker.PassiveEnvChecker'>\n",
      "<class 'gym.envs.classic_control.cartpole.CartPoleEnv'>\n",
      "<class 'gym.wrappers.time_limit.TimeLimit'>\n",
      "<class 'gym.wrappers.order_enforcing.OrderEnforcing'>\n",
      "<class 'gym.wrappers.env_checker.PassiveEnvChecker'>\n",
      "<class 'gym.envs.classic_control.cartpole.CartPoleEnv'>\n",
      "<class 'gym.wrappers.time_limit.TimeLimit'>\n",
      "<class 'gym.wrappers.order_enforcing.OrderEnforcing'>\n",
      "<class 'gym.wrappers.env_checker.PassiveEnvChecker'>\n",
      "<class 'gym.envs.classic_control.cartpole.CartPoleEnv'>\n",
      "<class 'gym.wrappers.time_limit.TimeLimit'>\n",
      "<class 'gym.wrappers.order_enforcing.OrderEnforcing'>\n",
      "<class 'gym.wrappers.env_checker.PassiveEnvChecker'>\n",
      "<class 'gym.envs.classic_control.cartpole.CartPoleEnv'>\n",
      "<class 'gym.wrappers.time_limit.TimeLimit'>\n",
      "<class 'gym.wrappers.order_enforcing.OrderEnforcing'>\n",
      "<class 'gym.wrappers.env_checker.PassiveEnvChecker'>\n",
      "<class 'gym.envs.classic_control.cartpole.CartPoleEnv'>\n",
      "<class 'gym.wrappers.time_limit.TimeLimit'>\n",
      "<class 'gym.wrappers.order_enforcing.OrderEnforcing'>\n",
      "<class 'gym.wrappers.env_checker.PassiveEnvChecker'>\n",
      "<class 'gym.envs.classic_control.cartpole.CartPoleEnv'>\n",
      "<class 'gym.wrappers.time_limit.TimeLimit'>\n",
      "<class 'gym.wrappers.order_enforcing.OrderEnforcing'>\n",
      "<class 'gym.wrappers.env_checker.PassiveEnvChecker'>\n",
      "<class 'gym.envs.classic_control.cartpole.CartPoleEnv'>\n",
      "<class 'gym.wrappers.time_limit.TimeLimit'>\n",
      "<class 'gym.wrappers.order_enforcing.OrderEnforcing'>\n",
      "<class 'gym.wrappers.env_checker.PassiveEnvChecker'>\n",
      "<class 'gym.envs.classic_control.cartpole.CartPoleEnv'>\n",
      "<class 'gym.wrappers.time_limit.TimeLimit'>\n",
      "<class 'gym.wrappers.order_enforcing.OrderEnforcing'>\n",
      "<class 'gym.wrappers.env_checker.PassiveEnvChecker'>\n",
      "<class 'gym.envs.classic_control.cartpole.CartPoleEnv'>\n",
      "<class 'gym.wrappers.time_limit.TimeLimit'>\n",
      "<class 'gym.wrappers.order_enforcing.OrderEnforcing'>\n",
      "<class 'gym.wrappers.env_checker.PassiveEnvChecker'>\n",
      "<class 'gym.envs.classic_control.cartpole.CartPoleEnv'>\n",
      "<class 'gym.wrappers.time_limit.TimeLimit'>\n",
      "<class 'gym.wrappers.order_enforcing.OrderEnforcing'>\n",
      "<class 'gym.wrappers.env_checker.PassiveEnvChecker'>\n",
      "<class 'gym.envs.classic_control.cartpole.CartPoleEnv'>\n",
      "<class 'gym.wrappers.time_limit.TimeLimit'>\n",
      "<class 'gym.wrappers.order_enforcing.OrderEnforcing'>\n",
      "<class 'gym.wrappers.env_checker.PassiveEnvChecker'>\n",
      "<class 'gym.envs.classic_control.cartpole.CartPoleEnv'>\n",
      "<class 'gym.wrappers.time_limit.TimeLimit'>\n",
      "<class 'gym.wrappers.order_enforcing.OrderEnforcing'>\n",
      "<class 'gym.wrappers.env_checker.PassiveEnvChecker'>\n",
      "<class 'gym.envs.classic_control.cartpole.CartPoleEnv'>\n",
      "<class 'gym.wrappers.time_limit.TimeLimit'>\n",
      "<class 'gym.wrappers.order_enforcing.OrderEnforcing'>\n",
      "<class 'gym.wrappers.env_checker.PassiveEnvChecker'>\n",
      "<class 'gym.envs.classic_control.cartpole.CartPoleEnv'>\n",
      "<class 'gym.wrappers.time_limit.TimeLimit'>\n",
      "<class 'gym.wrappers.order_enforcing.OrderEnforcing'>\n",
      "<class 'gym.wrappers.env_checker.PassiveEnvChecker'>\n",
      "<class 'gym.envs.classic_control.cartpole.CartPoleEnv'>\n",
      "<class 'gym.wrappers.time_limit.TimeLimit'>\n",
      "<class 'gym.wrappers.order_enforcing.OrderEnforcing'>\n",
      "<class 'gym.wrappers.env_checker.PassiveEnvChecker'>\n",
      "<class 'gym.envs.classic_control.cartpole.CartPoleEnv'>\n",
      "<class 'gym.wrappers.time_limit.TimeLimit'>\n",
      "<class 'gym.wrappers.order_enforcing.OrderEnforcing'>\n",
      "<class 'gym.wrappers.env_checker.PassiveEnvChecker'>\n",
      "<class 'gym.envs.classic_control.cartpole.CartPoleEnv'>\n",
      "<class 'gym.wrappers.time_limit.TimeLimit'>\n",
      "<class 'gym.wrappers.order_enforcing.OrderEnforcing'>\n",
      "<class 'gym.wrappers.env_checker.PassiveEnvChecker'>\n",
      "<class 'gym.envs.classic_control.cartpole.CartPoleEnv'>\n",
      "<class 'gym.wrappers.time_limit.TimeLimit'>\n",
      "<class 'gym.wrappers.order_enforcing.OrderEnforcing'>\n",
      "<class 'gym.wrappers.env_checker.PassiveEnvChecker'>\n",
      "<class 'gym.envs.classic_control.cartpole.CartPoleEnv'>\n",
      "<class 'gym.wrappers.time_limit.TimeLimit'>\n",
      "<class 'gym.wrappers.order_enforcing.OrderEnforcing'>\n",
      "<class 'gym.wrappers.env_checker.PassiveEnvChecker'>\n",
      "<class 'gym.envs.classic_control.cartpole.CartPoleEnv'>\n",
      "<class 'gym.wrappers.time_limit.TimeLimit'>\n",
      "<class 'gym.wrappers.order_enforcing.OrderEnforcing'>\n",
      "<class 'gym.wrappers.env_checker.PassiveEnvChecker'>\n",
      "<class 'gym.envs.classic_control.cartpole.CartPoleEnv'>\n",
      "<class 'gym.wrappers.time_limit.TimeLimit'>\n",
      "<class 'gym.wrappers.order_enforcing.OrderEnforcing'>\n",
      "<class 'gym.wrappers.env_checker.PassiveEnvChecker'>\n",
      "<class 'gym.envs.classic_control.cartpole.CartPoleEnv'>\n",
      "<class 'gym.wrappers.time_limit.TimeLimit'>\n",
      "<class 'gym.wrappers.order_enforcing.OrderEnforcing'>\n",
      "<class 'gym.wrappers.env_checker.PassiveEnvChecker'>\n",
      "<class 'gym.envs.classic_control.cartpole.CartPoleEnv'>\n",
      "<class 'gym.wrappers.time_limit.TimeLimit'>\n",
      "<class 'gym.wrappers.order_enforcing.OrderEnforcing'>\n",
      "<class 'gym.wrappers.env_checker.PassiveEnvChecker'>\n",
      "<class 'gym.envs.classic_control.cartpole.CartPoleEnv'>\n",
      "<class 'gym.wrappers.time_limit.TimeLimit'>\n",
      "<class 'gym.wrappers.order_enforcing.OrderEnforcing'>\n",
      "<class 'gym.wrappers.env_checker.PassiveEnvChecker'>\n",
      "<class 'gym.envs.classic_control.cartpole.CartPoleEnv'>\n",
      "<class 'gym.wrappers.time_limit.TimeLimit'>\n",
      "<class 'gym.wrappers.order_enforcing.OrderEnforcing'>\n",
      "<class 'gym.wrappers.env_checker.PassiveEnvChecker'>\n",
      "<class 'gym.envs.classic_control.cartpole.CartPoleEnv'>\n",
      "<class 'gym.wrappers.time_limit.TimeLimit'>\n",
      "<class 'gym.wrappers.order_enforcing.OrderEnforcing'>\n",
      "<class 'gym.wrappers.env_checker.PassiveEnvChecker'>\n",
      "<class 'gym.envs.classic_control.cartpole.CartPoleEnv'>\n",
      "<class 'gym.wrappers.time_limit.TimeLimit'>\n",
      "<class 'gym.wrappers.order_enforcing.OrderEnforcing'>\n",
      "<class 'gym.wrappers.env_checker.PassiveEnvChecker'>\n",
      "<class 'gym.envs.classic_control.cartpole.CartPoleEnv'>\n",
      "<class 'gym.wrappers.time_limit.TimeLimit'>\n",
      "<class 'gym.wrappers.order_enforcing.OrderEnforcing'>\n",
      "<class 'gym.wrappers.env_checker.PassiveEnvChecker'>\n",
      "<class 'gym.envs.classic_control.cartpole.CartPoleEnv'>\n",
      "<class 'gym.wrappers.time_limit.TimeLimit'>\n",
      "<class 'gym.wrappers.order_enforcing.OrderEnforcing'>\n",
      "<class 'gym.wrappers.env_checker.PassiveEnvChecker'>\n",
      "<class 'gym.envs.classic_control.cartpole.CartPoleEnv'>\n",
      "<class 'gym.wrappers.time_limit.TimeLimit'>\n",
      "<class 'gym.wrappers.order_enforcing.OrderEnforcing'>\n",
      "<class 'gym.wrappers.env_checker.PassiveEnvChecker'>\n",
      "<class 'gym.envs.classic_control.cartpole.CartPoleEnv'>\n",
      "<class 'gym.wrappers.time_limit.TimeLimit'>\n",
      "<class 'gym.wrappers.order_enforcing.OrderEnforcing'>\n",
      "<class 'gym.wrappers.env_checker.PassiveEnvChecker'>\n",
      "<class 'gym.envs.classic_control.cartpole.CartPoleEnv'>\n",
      "<class 'gym.wrappers.time_limit.TimeLimit'>\n",
      "<class 'gym.wrappers.order_enforcing.OrderEnforcing'>\n",
      "<class 'gym.wrappers.env_checker.PassiveEnvChecker'>\n",
      "<class 'gym.envs.classic_control.cartpole.CartPoleEnv'>\n",
      "<class 'gym.wrappers.time_limit.TimeLimit'>\n",
      "<class 'gym.wrappers.order_enforcing.OrderEnforcing'>\n",
      "<class 'gym.wrappers.env_checker.PassiveEnvChecker'>\n",
      "<class 'gym.envs.classic_control.cartpole.CartPoleEnv'>\n",
      "<class 'gym.wrappers.time_limit.TimeLimit'>\n",
      "<class 'gym.wrappers.order_enforcing.OrderEnforcing'>\n",
      "<class 'gym.wrappers.env_checker.PassiveEnvChecker'>\n",
      "<class 'gym.envs.classic_control.cartpole.CartPoleEnv'>\n",
      "<class 'gym.wrappers.time_limit.TimeLimit'>\n",
      "<class 'gym.wrappers.order_enforcing.OrderEnforcing'>\n",
      "<class 'gym.wrappers.env_checker.PassiveEnvChecker'>\n",
      "<class 'gym.envs.classic_control.cartpole.CartPoleEnv'>\n",
      "<class 'gym.wrappers.time_limit.TimeLimit'>\n",
      "<class 'gym.wrappers.order_enforcing.OrderEnforcing'>\n",
      "<class 'gym.wrappers.env_checker.PassiveEnvChecker'>\n",
      "<class 'gym.envs.classic_control.cartpole.CartPoleEnv'>\n",
      "<class 'gym.wrappers.time_limit.TimeLimit'>\n",
      "<class 'gym.wrappers.order_enforcing.OrderEnforcing'>\n",
      "<class 'gym.wrappers.env_checker.PassiveEnvChecker'>\n",
      "<class 'gym.envs.classic_control.cartpole.CartPoleEnv'>\n",
      "<class 'gym.wrappers.time_limit.TimeLimit'>\n",
      "<class 'gym.wrappers.order_enforcing.OrderEnforcing'>\n",
      "<class 'gym.wrappers.env_checker.PassiveEnvChecker'>\n",
      "<class 'gym.envs.classic_control.cartpole.CartPoleEnv'>\n",
      "<class 'gym.wrappers.time_limit.TimeLimit'>\n",
      "<class 'gym.wrappers.order_enforcing.OrderEnforcing'>\n",
      "<class 'gym.wrappers.env_checker.PassiveEnvChecker'>\n",
      "<class 'gym.envs.classic_control.cartpole.CartPoleEnv'>\n",
      "<class 'gym.wrappers.time_limit.TimeLimit'>\n",
      "<class 'gym.wrappers.order_enforcing.OrderEnforcing'>\n",
      "<class 'gym.wrappers.env_checker.PassiveEnvChecker'>\n",
      "<class 'gym.envs.classic_control.cartpole.CartPoleEnv'>\n",
      "<class 'gym.wrappers.time_limit.TimeLimit'>\n",
      "<class 'gym.wrappers.order_enforcing.OrderEnforcing'>\n",
      "<class 'gym.wrappers.env_checker.PassiveEnvChecker'>\n",
      "<class 'gym.envs.classic_control.cartpole.CartPoleEnv'>\n",
      "<class 'gym.wrappers.time_limit.TimeLimit'>\n",
      "<class 'gym.wrappers.order_enforcing.OrderEnforcing'>\n",
      "<class 'gym.wrappers.env_checker.PassiveEnvChecker'>\n",
      "<class 'gym.envs.classic_control.cartpole.CartPoleEnv'>\n",
      "<class 'gym.wrappers.time_limit.TimeLimit'>\n",
      "<class 'gym.wrappers.order_enforcing.OrderEnforcing'>\n",
      "<class 'gym.wrappers.env_checker.PassiveEnvChecker'>\n",
      "<class 'gym.envs.classic_control.cartpole.CartPoleEnv'>\n",
      "<class 'gym.wrappers.time_limit.TimeLimit'>\n",
      "<class 'gym.wrappers.order_enforcing.OrderEnforcing'>\n",
      "<class 'gym.wrappers.env_checker.PassiveEnvChecker'>\n",
      "<class 'gym.envs.classic_control.cartpole.CartPoleEnv'>\n",
      "<class 'gym.wrappers.time_limit.TimeLimit'>\n",
      "<class 'gym.wrappers.order_enforcing.OrderEnforcing'>\n",
      "<class 'gym.wrappers.env_checker.PassiveEnvChecker'>\n",
      "<class 'gym.envs.classic_control.cartpole.CartPoleEnv'>\n",
      "<class 'gym.wrappers.time_limit.TimeLimit'>\n",
      "<class 'gym.wrappers.order_enforcing.OrderEnforcing'>\n",
      "<class 'gym.wrappers.env_checker.PassiveEnvChecker'>\n",
      "<class 'gym.envs.classic_control.cartpole.CartPoleEnv'>\n",
      "<class 'gym.wrappers.time_limit.TimeLimit'>\n",
      "<class 'gym.wrappers.order_enforcing.OrderEnforcing'>\n",
      "<class 'gym.wrappers.env_checker.PassiveEnvChecker'>\n",
      "<class 'gym.envs.classic_control.cartpole.CartPoleEnv'>\n",
      "<class 'gym.wrappers.time_limit.TimeLimit'>\n",
      "<class 'gym.wrappers.order_enforcing.OrderEnforcing'>\n",
      "<class 'gym.wrappers.env_checker.PassiveEnvChecker'>\n",
      "<class 'gym.envs.classic_control.cartpole.CartPoleEnv'>\n",
      "<class 'gym.wrappers.time_limit.TimeLimit'>\n",
      "<class 'gym.wrappers.order_enforcing.OrderEnforcing'>\n",
      "<class 'gym.wrappers.env_checker.PassiveEnvChecker'>\n",
      "<class 'gym.envs.classic_control.cartpole.CartPoleEnv'>\n"
     ]
    },
    {
     "data": {
      "image/png": "[encoded data removed]",
      "text/plain": [
       "<Figure size 640x480 with 1 Axes>"
      ]
     },
     "metadata": {},
     "output_type": "display_data"
    }
   ],
   "source": [
    "\n",
    "# 作図処理を関数として定義\n",
    "def update(i):\n",
    "    # i番目の値を取得\n",
    "    x = position_vals[i]\n",
    "    #theta = angle_vals[i]\n",
    "    \n",
    "    # 固定する値を指定\n",
    "    #x = 0.0\n",
    "    x_dot = 0.0\n",
    "    theta = 0.0\n",
    "    theta_dot = 0.0\n",
    "    \n",
    "    # インスタンスを初期化\n",
    "    env = gym.make('CartPole-v1', render_mode='rgb_array')\n",
    "    _, _ = env.reset()\n",
    "    \n",
    "    # 状態を設定\n",
    "    state = np.array([x, x_dot, theta, theta_dot])\n",
    "    env.env.env.env.__dict__['state'] = state\n",
    "    \n",
    "    # 画像データを作成\n",
    "    rgb_data = env.render()\n",
    "    \n",
    "    # 状態ラベルを作成\n",
    "    state_text = f'cart position={x:5.2f}, '\n",
    "    state_text += 'cart velocity=' + str(x_dot) + '\\n'\n",
    "    state_text += f'pole angle   ={theta:5.2f}, '\n",
    "    state_text += 'pole velocity=' + str(theta_dot)\n",
    "    \n",
    "    # カートポールを描画\n",
    "    plt.imshow(rgb_data)\n",
    "    plt.xticks(ticks=[])\n",
    "    plt.yticks(ticks=[])\n",
    "    plt.title(state_text, loc='left')\n",
    "\n",
    "    # print(type(env))\n",
    "    # print(type(env.env))\n",
    "    # print(type(env.env.env))\n",
    "    # print(type(env.env.env.env))\n",
    "\n",
    "# gif画像を作成\n",
    "anime = FuncAnimation(fig=fig, func=update, frames=frame_num, interval=100)\n",
    "\n",
    "# gif画像を保存\n",
    "anime.save('CartPole_state1.gif')"
   ]
  },
  {
   "cell_type": "code",
   "execution_count": 1,
   "metadata": {},
   "outputs": [
    {
     "name": "stdout",
     "output_type": "stream",
     "text": [
      "1\n",
      "3\n"
     ]
    }
   ],
   "source": [
    "a = [1,2,3,4]\n",
    "print(a[0])\n",
    "b = a\n",
    "b[0] = 3\n",
    "print(a[0])"
   ]
  },
  {
   "cell_type": "code",
   "execution_count": 1,
   "metadata": {},
   "outputs": [
    {
     "data": {
      "text/plain": [
       "(array([1, 2]),\n",
       " array([[0.1, 0.2],\n",
       "        [0.3, 0.4]]),\n",
       " array([[0.2, 0.3],\n",
       "        [0.4, 0.5]]))"
      ]
     },
     "execution_count": 1,
     "metadata": {},
     "output_type": "execute_result"
    }
   ],
   "source": [
    "import numpy as np\n",
    "\n",
    "# 例のデータを生成\n",
    "sample_data = [\n",
    "    (np.array([0.1, 0.2]), 1, 0.5, np.array([0.2, 0.3]), False),\n",
    "    (np.array([0.3, 0.4]), 2, -0.5, np.array([0.4, 0.5]), True),\n",
    "]\n",
    "\n",
    "# np.array の動作\n",
    "action_example = np.array([x[1] for x in sample_data])\n",
    "\n",
    "# np.stack の動作\n",
    "state_example = np.stack([x[0] for x in sample_data])\n",
    "next_state_example = np.stack([x[3] for x in sample_data])\n",
    "\n",
    "action_example, state_example, next_state_example"
   ]
  },
  {
   "cell_type": "code",
   "execution_count": 2,
   "metadata": {},
   "outputs": [
    {
     "data": {
      "text/plain": [
       "array([[0.1, 0.2],\n",
       "       [0.3, 0.4]])"
      ]
     },
     "execution_count": 2,
     "metadata": {},
     "output_type": "execute_result"
    }
   ],
   "source": [
    "nn = np.array([x[0] for x in sample_data])\n",
    "nn"
   ]
  },
  {
   "cell_type": "code",
   "execution_count": null,
   "metadata": {},
   "outputs": [],
   "source": []
  }
 ],
 "metadata": {
  "kernelspec": {
   "display_name": "zeroMake",
   "language": "python",
   "name": "python3"
  },
  "language_info": {
   "codemirror_mode": {
    "name": "ipython",
    "version": 3
   },
   "file_extension": ".py",
   "mimetype": "text/x-python",
   "name": "python",
   "nbconvert_exporter": "python",
   "pygments_lexer": "ipython3",
   "version": "3.9.17"
  },
  "orig_nbformat": 4
 },
 "nbformat": 4,
 "nbformat_minor": 2
}
