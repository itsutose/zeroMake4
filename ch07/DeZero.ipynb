{
 "cells": [
  {
   "cell_type": "code",
   "execution_count": 2,
   "metadata": {},
   "outputs": [],
   "source": [
    "import numpy as np\n",
    "from dezero import Variable"
   ]
  },
  {
   "cell_type": "code",
   "execution_count": 3,
   "metadata": {},
   "outputs": [
    {
     "name": "stdout",
     "output_type": "stream",
     "text": [
      "x : variable(5.0), x.grad : None\n",
      "y : variable(25.0), y.grad : None\n",
      "x : variable(5.0), x.grad : variable(10.0)\n",
      "y : variable(25.0), y.grad : None\n",
      "\n",
      "variable(2.5)\n",
      "24 variable(2.980232238769531e-07)\n"
     ]
    }
   ],
   "source": [
    "x = Variable(np.array(5.0))\n",
    "y = x ** 2\n",
    "print(f'x : {x}, x.grad : {x.grad}')\n",
    "print(f'y : {y}, y.grad : {y.grad}')\n",
    "y.backward()\n",
    "\n",
    "# y' = 2x\n",
    "print(f'x : {x}, x.grad : {x.grad}')\n",
    "print(f'y : {y}, y.grad : {y.grad}')\n",
    "\n",
    "print()\n",
    "\n",
    "# for i in np.arange(-5, 5.5, 0.5): \n",
    "#     x = Variable(np.array(i))\n",
    "#     y = x ** 2\n",
    "#     y.backward()\n",
    "\n",
    "#     print(f'x : {x}, x.grad : {x.grad}')\n",
    "\n",
    "\n",
    "x = Variable(np.array(5.0))\n",
    "y = x ** 2\n",
    "y.backward()\n",
    "\n",
    "i = 0\n",
    "for i in range(10000):\n",
    "    # y = x ** 2\n",
    "    # y.backward()\n",
    "\n",
    "    # ニュートン法\n",
    "    if abs(x.grad.data) > 0.000001:\n",
    "        x.data -= y.data / x.grad.data\n",
    "        y = x ** 2\n",
    "        x.cleargrad()\n",
    "        y.backward()\n",
    "    else:\n",
    "        break\n",
    "    if i % 1000 == 0:\n",
    "        print(x)\n",
    "\n",
    "print(i, x)\n"
   ]
  },
  {
   "cell_type": "code",
   "execution_count": 15,
   "metadata": {},
   "outputs": [
    {
     "name": "stdout",
     "output_type": "stream",
     "text": [
      "x : variable(5.0), x.grad : None\n",
      "y : variable(7.0), y.grad : None\n",
      "x : variable(5.0), x.grad : variable(10.0)\n",
      "y : variable(7.0), y.grad : variable(147.0)\n"
     ]
    }
   ],
   "source": [
    "x = Variable(np.array(5.0))\n",
    "y = Variable(np.array(7.0))\n",
    "\n",
    "\n",
    "z = x ** 2 + y **3\n",
    "print(f'x : {x}, x.grad : {x.grad}')\n",
    "print(f'y : {y}, y.grad : {y.grad}')\n",
    "z.backward()\n",
    "\n",
    "# dz/dx = 2x    x = 5\n",
    "# dz/dy = 3y^2  y = 7\n",
    "print(f'x : {x}, x.grad : {x.grad}')\n",
    "print(f'y : {y}, y.grad : {y.grad}')"
   ]
  },
  {
   "cell_type": "code",
   "execution_count": 16,
   "metadata": {},
   "outputs": [
    {
     "name": "stdout",
     "output_type": "stream",
     "text": [
      "None ()\n"
     ]
    }
   ],
   "source": [
    "def trace_back(variable):\n",
    "    \"\"\"Trace back from a variable to its creators.\"\"\"\n",
    "    # traced_vars = set()\n",
    "    traced_vars = {}\n",
    "    variables_to_check = [variable]\n",
    "\n",
    "    while variables_to_check:\n",
    "        current_var = variables_to_check.pop()\n",
    "\n",
    "        # Check if the variable has a creator\n",
    "        if hasattr(current_var, 'creator') and current_var.creator is not None:\n",
    "            for input_var in current_var.creator.inputs:\n",
    "                if input_var not in traced_vars:\n",
    "                    # traced_vars.add(input_var)\n",
    "                    traced_vars[input_var.name] = input_var\n",
    "                    variables_to_check.append(input_var)\n",
    "    return traced_vars\n",
    "\n",
    "# Trace back from the loss variable\n",
    "traced_variables = trace_back(z)\n",
    "\n",
    "for key, value in traced_variables.items():\n",
    "    print(key,value.shape)"
   ]
  },
  {
   "cell_type": "code",
   "execution_count": 20,
   "metadata": {},
   "outputs": [
    {
     "data": {
      "text/plain": [
       "<dezero.core.Add at 0x1ca66fa15e0>"
      ]
     },
     "execution_count": 20,
     "metadata": {},
     "output_type": "execute_result"
    }
   ],
   "source": [
    "z.creator"
   ]
  },
  {
   "cell_type": "code",
   "execution_count": 4,
   "metadata": {},
   "outputs": [
    {
     "name": "stdout",
     "output_type": "stream",
     "text": [
      "variable(32)\n",
      "variable(32)\n",
      "variable([[19 22]\n",
      "          [43 50]])\n"
     ]
    }
   ],
   "source": [
    "import numpy as np\n",
    "from dezero import Variable\n",
    "import dezero.functions as F\n",
    "\n",
    "a = np.array([1,2,3])\n",
    "b = np.array([4,5,6])\n",
    "print(F.matmul(a,b)) # 1*4 + 2*5 + 3*6\n",
    "a, b = Variable(a), Variable(b)\n",
    "c = F.matmul(a,b)\n",
    "print(c)\n",
    "\n",
    "a = np.array([[1,2], [3,4]])\n",
    "b = np.array([[5,6], [7,8]])\n",
    "c = F.matmul(a,b)\n",
    "print(c)"
   ]
  },
  {
   "cell_type": "code",
   "execution_count": 5,
   "metadata": {},
   "outputs": [
    {
     "name": "stdout",
     "output_type": "stream",
     "text": [
      "variable(-2.0) variable(400.0)\n",
      "-2.0 400.0\n"
     ]
    }
   ],
   "source": [
    "import numpy as np\n",
    "from dezero import Variable\n",
    "\n",
    "def rosenbrock(x0, x1):\n",
    "    y = 100 * (x1 - x0 ** 2) ** 2 + (x0 - 1) ** 2\n",
    "    return y\n",
    "\n",
    "x0 = Variable(np.array(0.0))\n",
    "x1 = Variable(np.array(2.0))\n",
    "\n",
    "y = rosenbrock(x0, x1)\n",
    "y.backward()\n",
    "\n",
    "print(x0.grad, x1.grad)\n",
    "print(x0.grad.data, x1.grad.data)"
   ]
  },
  {
   "cell_type": "code",
   "execution_count": 41,
   "metadata": {},
   "outputs": [
    {
     "name": "stdout",
     "output_type": "stream",
     "text": [
      "0.9983503422105644 0.9966967979707025\n",
      "variable(2.72792132076766e-06)\n"
     ]
    }
   ],
   "source": [
    "\n",
    "lr = 0.001\n",
    "iters = 10000\n",
    "\n",
    "for i in range(iters):\n",
    "    y = rosenbrock(x0, x1)\n",
    "\n",
    "    x0.cleargrad()\n",
    "    x1.cleargrad()\n",
    "    y.backward()\n",
    "\n",
    "    x0.data -= lr * x0.grad.data\n",
    "    x1.data -= lr * x1.grad.data\n",
    "\n",
    "print(x0.data, x1.data)\n",
    "print(y)\n"
   ]
  },
  {
   "cell_type": "markdown",
   "metadata": {},
   "source": [
    "# 線形回帰"
   ]
  },
  {
   "cell_type": "code",
   "execution_count": 7,
   "metadata": {},
   "outputs": [
    {
     "data": {
      "text/plain": [
       "variable([0. 0. 0. 0. 0. 0. 0. 0. 0. 0. 0. 0. 0. 0. 0. 0. 0. 0. 0. 0. 0. 0. 0. 0.\n",
       "          0. 0. 0. 0. 0. 0. 0. 0. 0. 0. 0. 0. 0. 0. 0. 0. 0. 0. 0. 0. 0. 0. 0. 0.\n",
       "          0. 0. 0. 0. 0. 0. 0. 0. 0. 0. 0. 0. 0. 0. 0. 0. 0. 0. 0. 0. 0. 0. 0. 0.\n",
       "          0. 0. 0. 0. 0. 0. 0. 0. 0. 0. 0. 0. 0. 0. 0. 0. 0. 0. 0. 0. 0. 0. 0. 0.\n",
       "          0. 0. 0. 0.])"
      ]
     },
     "execution_count": 7,
     "metadata": {},
     "output_type": "execute_result"
    }
   ],
   "source": [
    "x.dot(W)"
   ]
  },
  {
   "cell_type": "code",
   "execution_count": 16,
   "metadata": {},
   "outputs": [
    {
     "name": "stdout",
     "output_type": "stream",
     "text": [
      "42.296340129442335\n",
      "====\n",
      "W = [[2.39573972]]\n",
      "b = [4.9467725]\n"
     ]
    },
    {
     "data": {
      "image/png": "[encoded data removed]",
      "text/plain": [
       "<Figure size 640x480 with 1 Axes>"
      ]
     },
     "metadata": {},
     "output_type": "display_data"
    }
   ],
   "source": [
    "import numpy as np\n",
    "import matplotlib.pyplot as plt\n",
    "from dezero import Variable\n",
    "import dezero.functions as F\n",
    "\n",
    "# トイ・データセット\n",
    "np.random.seed(0)\n",
    "x = np.random.rand(100, 1)\n",
    "y = 5 + 2 * x + np.random.rand(100, 1)\n",
    "x, y = Variable(x), Variable(y)  # 省略可能\n",
    "\n",
    "x.name = f'input'\n",
    "y.name = f'target'\n",
    "\n",
    "W = Variable(np.zeros((1, 1)), name = \"W\")\n",
    "# W = Variable(np.zeros(1))\n",
    "b = Variable(np.zeros(1), name = \"b\")\n",
    "# b = Variable(np.zeros(1))\n",
    "\n",
    "def predict(x):\n",
    "    y = F.matmul(x, W) + b\n",
    "    return y\n",
    "\n",
    "def mean_squared_error(x0, x1):\n",
    "    diff = x0 - x1\n",
    "    return F.sum(diff ** 2) / len(diff)\n",
    "\n",
    "lr = 0.1\n",
    "iters = 10\n",
    "\n",
    "for i in range(iters):\n",
    "    y_pred = predict(x)\n",
    "    \n",
    "    y_pred.name = f'output_{i}'\n",
    "    \n",
    "    loss = mean_squared_error(y, y_pred)\n",
    "\n",
    "\n",
    "    W.cleargrad()\n",
    "    b.cleargrad()\n",
    "    loss.backward()\n",
    "    loss.name = 'loss'\n",
    "\n",
    "    W.data -= lr * W.grad.data\n",
    "    b.data -= lr * b.grad.data\n",
    "\n",
    "    if i % 10 == 0:\n",
    "        print(loss.data)\n",
    "\n",
    "print('====')\n",
    "print('W =', W.data)\n",
    "print('b =', b.data)\n",
    "\n",
    "# Plot\n",
    "plt.scatter(x.data, y.data, s=10)\n",
    "plt.xlabel('x')\n",
    "plt.ylabel('y')\n",
    "t = np.arange(0, 1, .01)[:, np.newaxis]\n",
    "y_pred = predict(t)\n",
    "plt.plot(t, y_pred.data, color='r')\n",
    "plt.show()"
   ]
  },
  {
   "cell_type": "code",
   "execution_count": 47,
   "metadata": {},
   "outputs": [
    {
     "name": "stdout",
     "output_type": "stream",
     "text": [
      "variable([[0.]])\n",
      "variable([0.])\n"
     ]
    }
   ],
   "source": [
    "W = Variable(np.zeros((1, 1)), name = \"W\")\n",
    "print(W)\n",
    "W = Variable(np.zeros(1))\n",
    "print(W)"
   ]
  },
  {
   "cell_type": "code",
   "execution_count": 166,
   "metadata": {},
   "outputs": [
    {
     "name": "stdout",
     "output_type": "stream",
     "text": [
      "None (100, 1)\n",
      "target (100, 1)\n",
      "output_0 (100, 1)\n",
      "b (1,)\n",
      "input (100, 1)\n",
      "W (1, 1)\n"
     ]
    }
   ],
   "source": [
    "def trace_back(variable):\n",
    "    \"\"\"Trace back from a variable to its creators.\"\"\"\n",
    "    # traced_vars = set()\n",
    "    traced_vars = {}\n",
    "    variables_to_check = [variable]\n",
    "\n",
    "    while variables_to_check:\n",
    "        current_var = variables_to_check.pop()\n",
    "\n",
    "        # Check if the variable has a creator\n",
    "        if hasattr(current_var, 'creator') and current_var.creator is not None:\n",
    "            for input_var in current_var.creator.inputs:\n",
    "                if input_var not in traced_vars:\n",
    "                    # traced_vars.add(input_var)\n",
    "                    traced_vars[input_var.name] = input_var\n",
    "                    variables_to_check.append(input_var)\n",
    "    return traced_vars\n",
    "\n",
    "# Trace back from the loss variable\n",
    "traced_variables = trace_back(loss)\n",
    "\n",
    "for key, value in traced_variables.items():\n",
    "    print(key,value.shape)"
   ]
  },
  {
   "cell_type": "code",
   "execution_count": 155,
   "metadata": {},
   "outputs": [],
   "source": [
    "import numpy as np\n",
    "import matplotlib.pyplot as plt\n",
    "from dezero import Variable\n",
    "import dezero.functions as F\n",
    "\n",
    "# トイ・データセット\n",
    "np.random.seed(0)\n",
    "x = np.random.rand(100, 1)\n",
    "y = 5 + 2 * x + np.random.rand(100, 1)\n",
    "x, y = Variable(x), Variable(y)  # 省略可能\n",
    "\n",
    "W = Variable(np.zeros((1, 1)))\n",
    "b = Variable(np.zeros(1))\n",
    "\n",
    "def predict(x):\n",
    "    y = F.matmul(x, W) + b\n",
    "    return y\n",
    "\n",
    "def mean_squared_error(x0, x1):\n",
    "    diff = x0 - x1\n",
    "    return F.sum(diff ** 2) / len(diff)\n",
    "\n",
    "# print(F.matmul(x, W).shape) # 100, 1\n",
    "# print(b.shape) # 1\n",
    "# print(predict(x).shape, predict(x)) # 100, 1"
   ]
  },
  {
   "cell_type": "code",
   "execution_count": 79,
   "metadata": {},
   "outputs": [
    {
     "name": "stdout",
     "output_type": "stream",
     "text": [
      "variable(42.296340129442335)\n"
     ]
    }
   ],
   "source": [
    "y_pred = predict(x)\n",
    "loss = mean_squared_error(y, y_pred)\n",
    "print(loss)"
   ]
  },
  {
   "cell_type": "code",
   "execution_count": 80,
   "metadata": {},
   "outputs": [
    {
     "name": "stdout",
     "output_type": "stream",
     "text": [
      "None\n",
      "<bound method Variable.cleargrad of variable([[0.]])>\n",
      "<bound method Variable.cleargrad of variable([0.])>\n",
      "<bound method Variable.cleargrad of variable(42.296340129442335)>\n",
      "None\n",
      "variable([[-6.44334584]])\n",
      "variable([-12.94733887])\n"
     ]
    }
   ],
   "source": [
    "print(W.grad)\n",
    "print(W.cleargrad)\n",
    "print(b.cleargrad)\n",
    "print(loss.cleargrad)\n",
    "print(loss.backward())\n",
    "print(W.grad)\n",
    "print(b.grad)"
   ]
  },
  {
   "cell_type": "code",
   "execution_count": 15,
   "metadata": {},
   "outputs": [
    {
     "name": "stdout",
     "output_type": "stream",
     "text": [
      "variable(42.296340129442335)\n",
      "[[-6.44334584]]\n",
      "[-12.94733887]\n"
     ]
    }
   ],
   "source": [
    "y_pred = predict(x)\n",
    "loss = mean_squared_error(y, y_pred)\n",
    "print(loss)\n",
    "\n",
    "W.cleargrad()\n",
    "b.cleargrad()\n",
    "loss.backward()\n",
    "\n",
    "print(W.grad.data)\n",
    "print(b.grad.data)\n"
   ]
  },
  {
   "cell_type": "code",
   "execution_count": 81,
   "metadata": {},
   "outputs": [
    {
     "name": "stdout",
     "output_type": "stream",
     "text": [
      "42.296340129442335\n",
      "0.24915731977561134\n",
      "0.10078974954301652\n",
      "0.09461859803040694\n",
      "0.0902667138137311\n",
      "0.08694585483964615\n",
      "0.08441084206493275\n",
      "0.08247571022229121\n",
      "0.08099850454041051\n",
      "0.07987086218625004\n",
      "====\n",
      "W = [[2.11807369]]\n",
      "b = [5.46608905]\n"
     ]
    },
    {
     "data": {
      "image/png": "[encoded data removed]",
      "text/plain": [
       "<Figure size 640x480 with 1 Axes>"
      ]
     },
     "metadata": {},
     "output_type": "display_data"
    }
   ],
   "source": [
    "\n",
    "lr = 0.1\n",
    "iters = 100\n",
    "\n",
    "for i in range(iters):\n",
    "    y_pred = predict(x)\n",
    "    loss = mean_squared_error(y, y_pred)\n",
    "\n",
    "    W.cleargrad()\n",
    "    b.cleargrad()\n",
    "    loss.backward()\n",
    "\n",
    "    W.data -= lr * W.grad.data\n",
    "    b.data -= lr * b.grad.data\n",
    "\n",
    "    if i % 10 == 0:\n",
    "        print(loss.data)\n",
    "\n",
    "print('====')\n",
    "print('W =', W.data)\n",
    "print('b =', b.data)\n",
    "\n",
    "# Plot\n",
    "plt.scatter(x.data, y.data, s=10)\n",
    "plt.xlabel('x')\n",
    "plt.ylabel('y')\n",
    "t = np.arange(0, 1, .01)[:, np.newaxis]\n",
    "y_pred = predict(t)\n",
    "plt.plot(t, y_pred.data, color='r')\n",
    "plt.show()"
   ]
  },
  {
   "cell_type": "markdown",
   "metadata": {},
   "source": [
    "# ニューラルネットワーク"
   ]
  },
  {
   "cell_type": "code",
   "execution_count": 20,
   "metadata": {},
   "outputs": [
    {
     "data": {
      "text/plain": [
       "array([[-1.10438334,  0.05216508, -0.739563  ,  1.5430146 , -1.29285691,\n",
       "         0.26705087, -0.03928282, -1.1680935 ,  0.52327666, -0.17154633]])"
      ]
     },
     "execution_count": 20,
     "metadata": {},
     "output_type": "execute_result"
    }
   ],
   "source": [
    "np.random.randn(I, H)"
   ]
  },
  {
   "cell_type": "code",
   "execution_count": 22,
   "metadata": {},
   "outputs": [
    {
     "name": "stdout",
     "output_type": "stream",
     "text": [
      "0.8473695850105871\n",
      "0.2514286285183607\n",
      "0.2475948546674987\n",
      "0.23786120447054812\n",
      "0.21222231333102934\n",
      "0.16742181117834157\n",
      "0.09681932619992645\n",
      "0.0784952829060233\n",
      "0.07749729552991157\n",
      "0.07722132399559316\n",
      "0.07698661032692945\n",
      "0.07677496339867403\n",
      "0.07658271141330995\n",
      "0.0764071922881222\n",
      "0.07624632377852587\n",
      "0.07609843292673374\n",
      "0.11208035255376035\n",
      "0.0759981587301131\n",
      "0.17770026962757007\n",
      "0.07588228249948187\n"
     ]
    },
    {
     "data": {
      "image/png": "[encoded data removed]",
      "text/plain": [
       "<Figure size 640x480 with 1 Axes>"
      ]
     },
     "metadata": {},
     "output_type": "display_data"
    }
   ],
   "source": [
    "import numpy as np\n",
    "import matplotlib.pyplot as plt\n",
    "from dezero import Model\n",
    "from dezero import optimizers\n",
    "from dezero import Variable\n",
    "import dezero.layers as L\n",
    "import dezero.functions as F\n",
    "\n",
    "# Dataset\n",
    "np.random.seed(0)\n",
    "x = np.random.rand(100, 1)\n",
    "y = np.sin(2 * np.pi * x) + np.random.rand(100, 1)\n",
    "\n",
    "I, H, O = 1,10,1\n",
    "W1 = Variable(0.01 * np.random.randn(I, H))\n",
    "b1 = Variable(np.zeros(H))\n",
    "W2 = Variable(0.01 * np.random.randn(H, O))\n",
    "b2 = Variable(np.zeros(O))\n",
    "\n",
    "def predict(x):\n",
    "    y = F.linear(x, W1, b1)\n",
    "    y = F.sigmoid(y)\n",
    "    y = F.linear(y, W2, b2)\n",
    "    return y\n",
    "\n",
    "lr = 0.2\n",
    "iters = 20000\n",
    "\n",
    "for i in range(iters):\n",
    "    y_pred = predict(x)\n",
    "    loss = F.mean_squared_error(y, y_pred)\n",
    "\n",
    "    W1.cleargrad()\n",
    "    b1.cleargrad()\n",
    "    W2.cleargrad()\n",
    "    b2.cleargrad()\n",
    "\n",
    "    loss.backward()\n",
    "\n",
    "    W1.data -= lr * W1.grad.data\n",
    "    b1.data -= lr * b1.grad.data\n",
    "    W2.data -= lr * W2.grad.data\n",
    "    b2.data -= lr * b2.grad.data\n",
    "    \n",
    "    if i % 1000 == 0:\n",
    "        print(loss.data)\n",
    "\n",
    "\n",
    "# Plot\n",
    "plt.scatter(x, y, s=10)\n",
    "plt.xlabel('x')\n",
    "plt.ylabel('y')\n",
    "t = np.arange(0, 1, .01)[:, np.newaxis]\n",
    "y_pred = predict(t)\n",
    "plt.plot(t, y_pred.data, color='r')\n",
    "plt.show()\n"
   ]
  },
  {
   "cell_type": "code",
   "execution_count": 30,
   "metadata": {},
   "outputs": [
    {
     "name": "stdout",
     "output_type": "stream",
     "text": [
      "W1 :variable([[-1.92310858 -1.74651425 -9.69055807 -0.94601886 -0.3374755  -1.85279905\n",
      "           -1.65801259 -1.77645875 -1.54233905 -1.67934998]])\n",
      "b1 :variable([0.31435784 0.20743258 4.75117716 0.33121333 1.11797703 0.25720521\n",
      "          0.19367637 0.21209369 0.1892225  0.19620804])\n",
      "W2 :variable([[-2.01059814]\n",
      "          [-1.65555842]\n",
      "          [ 4.99455725]\n",
      "          [-0.41697407]\n",
      "          [ 0.43069345]\n",
      "          [-1.87289254]\n",
      "          [-1.4881957 ]\n",
      "          [-1.71742407]\n",
      "          [-1.28199545]\n",
      "          [-1.52762165]])\n",
      "b2 :variable([2.03498212])\n"
     ]
    }
   ],
   "source": [
    "print(f'W1 :{W1}')\n",
    "print(f'b1 :{b1}')\n",
    "print(f'W2 :{W2}')\n",
    "print(f'b2 :{b2}')"
   ]
  },
  {
   "cell_type": "markdown",
   "metadata": {},
   "source": []
  },
  {
   "cell_type": "markdown",
   "metadata": {},
   "source": [
    "やってる中身としては↑の通り  \n",
    "ただし，ごちゃごちゃしているので\n",
    "# dezeroのモデルを利用"
   ]
  },
  {
   "cell_type": "code",
   "execution_count": 2,
   "metadata": {},
   "outputs": [
    {
     "name": "stdout",
     "output_type": "stream",
     "text": [
      "b\n",
      "W\n",
      "y shape: (100, 10)\n",
      "params shape: (5, 10) (10,)\n",
      "b (10,)\n",
      "W (5, 10)\n"
     ]
    }
   ],
   "source": [
    "import numpy as np\n",
    "import dezero.layers as L\n",
    "\n",
    "# Linear()の中は出力の個数\n",
    "linear = L.Linear(out_size=10, in_size=5)\n",
    "\n",
    "for param in linear.params():\n",
    "    print(param.name)\n",
    "\n",
    "batch_size, input_size = 100, 5\n",
    "x = np.random.randn(batch_size, input_size)\n",
    "# x.shape = (100, 5)\n",
    "\n",
    "# (100, 5) * w(5, 10) + b = (100, 10)\n",
    "# y = linear(x)で順伝播の計算の歴史が保持される\n",
    "y = linear(x)\n",
    "\n",
    "print('y shape:', y.shape)\n",
    "print('params shape:', linear.W.shape, linear.b.shape)\n",
    "\n",
    "for param in linear.params():\n",
    "    print(param.name, param.shape)"
   ]
  },
  {
   "cell_type": "code",
   "execution_count": 3,
   "metadata": {},
   "outputs": [],
   "source": [
    "# random.randnの仕様がよくわからなかったため確認\n",
    "# random.randn(a,b) shape(a,b)の配列を生成\n",
    "# 平均0 標準偏差1 の標準正規分布に沿って生成5\n",
    "\n",
    "x = np.random.randn(100, 5)\n",
    "# print(x.shape,\"\\n\", x[:7])"
   ]
  },
  {
   "cell_type": "code",
   "execution_count": 4,
   "metadata": {},
   "outputs": [
    {
     "name": "stdout",
     "output_type": "stream",
     "text": [
      "variable([0.])\n",
      "variable(None)\n",
      "variable([0. 0. 0. 0. 0. 0. 0. 0. 0. 0.])\n",
      "variable(None)\n"
     ]
    }
   ],
   "source": [
    "import numpy as np\n",
    "import matplotlib.pyplot as plt\n",
    "from dezero import Model\n",
    "from dezero import optimizers\n",
    "import dezero.layers as L\n",
    "import dezero.functions as F\n",
    "\n",
    "class TwoLayerNet(Model):\n",
    "    def __init__(self, hidden_size, out_size):\n",
    "        super().__init__()\n",
    "        self.l1 = L.Linear(hidden_size)\n",
    "        self.l2 = L.Linear(out_size)\n",
    "\n",
    "    def forward(self, x):\n",
    "        y = F.sigmoid(self.l1(x))\n",
    "        y = self.l2(y)\n",
    "        return y\n",
    "\n",
    "model = TwoLayerNet(10, 1)\n",
    "\n",
    "for param in model.params():\n",
    "    print(param)\n",
    "\n",
    "model.cleargrads()"
   ]
  },
  {
   "cell_type": "code",
   "execution_count": 5,
   "metadata": {},
   "outputs": [
    {
     "name": "stdout",
     "output_type": "stream",
     "text": [
      "0.8165178492839196\n",
      "0.24990280802148895\n",
      "0.24609876581126014\n",
      "0.2372159081431807\n",
      "0.20793216413350174\n",
      "0.12311905720649356\n",
      "0.07888166506355153\n",
      "0.07655073683421637\n",
      "0.07637803086238228\n",
      "0.07618764131185567\n"
     ]
    },
    {
     "data": {
      "image/png": "[encoded data removed]",
      "text/plain": [
       "<Figure size 640x480 with 1 Axes>"
      ]
     },
     "metadata": {},
     "output_type": "display_data"
    }
   ],
   "source": [
    "import numpy as np\n",
    "import matplotlib.pyplot as plt\n",
    "from dezero import Model\n",
    "from dezero import optimizers\n",
    "import modified_layers as L\n",
    "import dezero.layers as L\n",
    "import dezero.functions as F\n",
    "from dezero.core import Parameter\n",
    "\n",
    "# Dataset\n",
    "np.random.seed(0)\n",
    "x = np.random.rand(100, 1)\n",
    "y = np.sin(2 * np.pi * x) + np.random.rand(100, 1)\n",
    "\n",
    "lr = 0.2\n",
    "iters = 10000\n",
    "\n",
    "class TwoLayerNet(Model):\n",
    "    def __init__(self, hidden_size, out_size):\n",
    "        super().__init__()\n",
    "        self.l1 = L.Linear(hidden_size)\n",
    "        # self.l1.W = Parameter(None, name='W1')\n",
    "        # self.l1.b = Parameter(np.zeros(self.l1.out_size, dtype=self.l1.dtype), name='b1')\n",
    "\n",
    "        self.l2 = L.Linear(out_size)\n",
    "        # self.l2.W = Parameter(None, name='W2')\n",
    "        # self.l2.b = Parameter(np.zeros(self.l2.out_size, dtype=self.l2.dtype), name='b2')\n",
    "\n",
    "    def forward(self, x):\n",
    "        y = F.sigmoid(self.l1(x))\n",
    "        y = self.l2(y)\n",
    "        return y\n",
    "\n",
    "model = TwoLayerNet(10, 1)\n",
    "# optimizerを追加\n",
    "optimizer = optimizers.SGD(lr)\n",
    "optimizer.setup(model)\n",
    "\n",
    "for i in range(iters):\n",
    "    y_pred = model(x)\n",
    "    loss = F.mean_squared_error(y, y_pred)\n",
    "\n",
    "    model.cleargrads()\n",
    "    loss.backward()\n",
    "\n",
    "    # for p in model.params():\n",
    "    #     p.data-= le * p.grad.data\n",
    "    optimizer.update()\n",
    "\n",
    "\n",
    "    if i % 1000 == 0:\n",
    "        print(loss.data)\n",
    "\n",
    "# Plot\n",
    "plt.scatter(x, y, s=10)\n",
    "plt.xlabel('x')\n",
    "plt.ylabel('y')\n",
    "t = np.arange(0, 1, .01)[:, np.newaxis]\n",
    "y_pred = model(t)\n",
    "plt.plot(t, y_pred.data, color='r')\n",
    "plt.show()"
   ]
  },
  {
   "cell_type": "code",
   "execution_count": 6,
   "metadata": {},
   "outputs": [
    {
     "name": "stdout",
     "output_type": "stream",
     "text": [
      "b (1,) \n",
      " variable([-0.91091275])\n",
      "W (10, 1) \n",
      " variable([[ 1.0825084 ]\n",
      "          [-2.7484486 ]\n",
      "          [ 5.4915586 ]\n",
      "          [-1.3048114 ]\n",
      "          [-1.197905  ]\n",
      "          [ 0.32324767]\n",
      "          [ 1.4315618 ]\n",
      "          [-0.86709327]\n",
      "          [-2.6347868 ]\n",
      "          [ 1.2583766 ]])\n",
      "b (10,) \n",
      " variable([-0.9606268   0.49943432  4.5593724   0.16067517  0.20714144 -1.874649\n",
      "          -0.5832339  -0.00763051  0.57859486 -0.5276554 ])\n",
      "W (1, 10) \n",
      " variable([[ 1.6524137  -2.1517513  -9.170103   -1.1727254  -1.1385859   3.307915\n",
      "            1.617087   -0.63725543 -2.1345348   1.4791305 ]])\n"
     ]
    }
   ],
   "source": [
    "for param in model.params():\n",
    "    print(param.name, param.shape, \"\\n\", param)"
   ]
  },
  {
   "cell_type": "markdown",
   "metadata": {},
   "source": [
    "inputの数があやふやなので，それを明言して確かめる"
   ]
  },
  {
   "cell_type": "code",
   "execution_count": 7,
   "metadata": {},
   "outputs": [
    {
     "name": "stdout",
     "output_type": "stream",
     "text": [
      "0.8165178492839196\n",
      "0.25390239816542953\n",
      "0.25371625381807394\n",
      "0.25362075925327027\n",
      "0.2535657642467816\n",
      "0.25353152711116955\n",
      "0.25350898174549014\n",
      "0.25349348986266795\n",
      "0.2534824801105108\n",
      "0.25347443871399705\n"
     ]
    },
    {
     "data": {
      "image/png": "[encoded data removed]",
      "text/plain": [
       "<Figure size 640x480 with 1 Axes>"
      ]
     },
     "metadata": {},
     "output_type": "display_data"
    }
   ],
   "source": [
    "import numpy as np\n",
    "import matplotlib.pyplot as plt\n",
    "from dezero import Model\n",
    "from dezero import optimizers\n",
    "import modified_layers as L\n",
    "import dezero.layers as L\n",
    "import dezero.functions as F\n",
    "from dezero.core import Parameter\n",
    "\n",
    "# Dataset\n",
    "np.random.seed(0)\n",
    "x = np.random.rand(100, 1)\n",
    "y = np.sin(2 * np.pi * x) + np.random.rand(100, 1)\n",
    "\n",
    "lr = 0.2\n",
    "iters = 10000\n",
    "\n",
    "class TwoLayerNet(Model):\n",
    "    def __init__(self, input_size, hidden_size, out_size):\n",
    "        super().__init__()\n",
    "        self.l1 = L.Linear(hidden_size, input_size)\n",
    "        # self.l1.W = Parameter(None, name='W1')\n",
    "        # self.l1.b = Parameter(np.zeros(self.l1.out_size, dtype=self.l1.dtype), name='b1')\n",
    "\n",
    "        self.l2 = L.Linear(out_size, hidden_size)\n",
    "        # self.l2.W = Parameter(None, name='W2')\n",
    "        # self.l2.b = Parameter(np.zeros(self.l2.out_size, dtype=self.l2.dtype), name='b2')\n",
    "\n",
    "    def forward(self, x):\n",
    "        y = F.sigmoid(self.l1(x))\n",
    "        y = self.l2(y)\n",
    "        return y\n",
    "\n",
    "model = TwoLayerNet(1, 10, 1)\n",
    "# optimizerを追加\n",
    "optimizer = optimizers.SGD(lr)\n",
    "optimizer.setup(model)\n",
    "\n",
    "for i in range(iters):\n",
    "    y_pred = model(x)\n",
    "    loss = F.mean_squared_error(y, y_pred)\n",
    "\n",
    "    model.cleargrads()\n",
    "    loss.backward()\n",
    "\n",
    "    # for p in model.params()\n",
    "    #     p.data-= le * p.grad.data\n",
    "    optimizer.update()\n",
    "\n",
    "\n",
    "    if i % 1000 == 0:\n",
    "        print(loss.data)\n",
    "\n",
    "# Plot\n",
    "plt.scatter(x, y, s=10)\n",
    "plt.xlabel('x')\n",
    "plt.ylabel('y')\n",
    "t = np.arange(0, 1, .01)[:, np.newaxis]\n",
    "y_pred = model(t)\n",
    "plt.plot(t, y_pred.data, color='r')\n",
    "plt.show()"
   ]
  },
  {
   "cell_type": "markdown",
   "metadata": {},
   "source": [
    "# Q学習とニューラルネットワーク"
   ]
  },
  {
   "cell_type": "code",
   "execution_count": 11,
   "metadata": {},
   "outputs": [
    {
     "name": "stdout",
     "output_type": "stream",
     "text": [
      "(1, 12)\n",
      "[[0. 0. 0. 0. 0. 0. 0. 0. 1. 0. 0. 0.]]\n",
      "[[0. 0. 0. 0.]\n",
      " [0. 0. 0. 0.]\n",
      " [1. 0. 0. 0.]]\n"
     ]
    }
   ],
   "source": [
    "# one-hotエンコーディングをする関数\n",
    "\n",
    "import numpy as np\n",
    "\n",
    "def one_hot(state):\n",
    "    HEIGHT, WIDTH = 3, 4\n",
    "    vec = np.zeros(HEIGHT * WIDTH, dtype = np.float32)\n",
    "    y, x = state\n",
    "    idx = WIDTH * y + x\n",
    "    vec[idx] = 1.0\n",
    "    return vec[np.newaxis, :]\n",
    "\n",
    "\n",
    "state = [2, 0]\n",
    "x = one_hot(state) \n",
    "\n",
    "print(x.shape)\n",
    "print(x)\n",
    "print(x.reshape(3,4))"
   ]
  },
  {
   "cell_type": "code",
   "execution_count": 12,
   "metadata": {},
   "outputs": [
    {
     "name": "stdout",
     "output_type": "stream",
     "text": [
      "0\n",
      "defaultdict(<function <lambda> at 0x0000029BD7B20EE0>, {((2, 0), 0): 0})\n"
     ]
    }
   ],
   "source": [
    "from collections import defaultdict\n",
    "\n",
    "Q = defaultdict(lambda: 0)\n",
    "state = (2,0)\n",
    "action = 0\n",
    "\n",
    "print(Q[state, action])\n",
    "print(Q)"
   ]
  },
  {
   "cell_type": "code",
   "execution_count": 13,
   "metadata": {},
   "outputs": [
    {
     "name": "stdout",
     "output_type": "stream",
     "text": [
      "[[0. 0. 0. 0. 0. 0. 0. 0. 1. 0. 0. 0.]] (1, 12)\n",
      "(1, 4)\n"
     ]
    }
   ],
   "source": [
    "import numpy as np\n",
    "import matplotlib.pyplot as plt\n",
    "from dezero import Model\n",
    "from dezero import optimizers\n",
    "import dezero.layers as L\n",
    "import dezero.functions as F\n",
    "from dezero.core import Parameter\n",
    "\n",
    "class QNet(Model):\n",
    "    def __init__(self):\n",
    "        super().__init__()\n",
    "        self.l1 = L.Linear(100)\n",
    "        self.l1.W = Parameter(None, name='W1')\n",
    "        self.l1.b = Parameter(np.zeros(self.l1.out_size, dtype=self.l1.dtype), name='b1')\n",
    "\n",
    "        self.l2 = L.Linear(4)\n",
    "        self.l2.W = Parameter(None, name='W2')\n",
    "        self.l2.b = Parameter(np.zeros(self.l2.out_size, dtype=self.l2.dtype), name='b2')\n",
    "\n",
    "    def forward(self, x):\n",
    "        y = F.sigmoid(self.l1(x))\n",
    "        y = self.l2(y)\n",
    "        return y\n",
    "\n",
    "qnet = QNet()\n",
    "\n",
    "state = (2, 0)\n",
    "state = one_hot(state)\n",
    "\n",
    "qs = qnet(state)\n",
    "print(state, state.shape)\n",
    "print(qs.shape)"
   ]
  },
  {
   "cell_type": "code",
   "execution_count": 14,
   "metadata": {},
   "outputs": [
    {
     "name": "stdout",
     "output_type": "stream",
     "text": [
      "b2 (4,)\n",
      "W2 (100, 4)\n",
      "b1 (100,)\n",
      "W1 (12, 100)\n"
     ]
    }
   ],
   "source": [
    "for param in qnet.params():\n",
    "    print(param.name, param.shape) #, \"\\n\", param)"
   ]
  },
  {
   "cell_type": "markdown",
   "metadata": {},
   "source": [
    "## 7.4.3 ニューラルネットワークとQ学習"
   ]
  },
  {
   "cell_type": "code",
   "execution_count": 39,
   "metadata": {},
   "outputs": [],
   "source": [
    "# import os, sys; sys.path.append(os.path.join(os.path.dirname(__file__), '..'))  # for importing the parent dirs\n",
    "import os, sys; sys.path.append(os.path.join(os.getcwd(), '..'))\n",
    "# print(sys.path)\n",
    "import matplotlib.pyplot as plt\n",
    "import numpy as np\n",
    "from dezero import Model\n",
    "from dezero import optimizers\n",
    "import dezero.functions as F\n",
    "import dezero.layers as L\n",
    "from dezero.core import Parameter\n",
    "\n",
    "from common.gridworld import GridWorld\n",
    "\n",
    "mode = 1\n",
    "\n",
    "class QNet(Model):\n",
    "    def __init__(self):\n",
    "        super().__init__()\n",
    "\n",
    "        if mode == 1:\n",
    "            self.l1 = L.Linear(100)\n",
    "            self.l1.W = Parameter(None, name='W1')\n",
    "            self.l1.b = Parameter(np.zeros(self.l1.out_size, dtype=self.l1.dtype), name='b1')\n",
    "            \n",
    "            self.l2 = L.Linear(4)\n",
    "            self.l2.W = Parameter(None, name='W2')\n",
    "            self.l2.b = Parameter(np.zeros(self.l2.out_size, dtype=self.l2.dtype), name='b2')\n",
    "        if mode == 2:\n",
    "            self.l1 = L.Linear(100)\n",
    "            self.l1.W = Parameter(None, name='W1')\n",
    "            self.l1.b = Parameter(np.zeros(self.l1.out_size, dtype=self.l1.dtype), name='b1')\n",
    "\n",
    "            self.l2 = L.Linear(40)\n",
    "            self.l2.W = Parameter(None, name='W2')\n",
    "            self.l2.b = Parameter(np.zeros(self.l2.out_size, dtype=self.l2.dtype), name='b2')\n",
    "            \n",
    "            self.l3 = L.Linear(4)\n",
    "            self.l3.W = Parameter(None, name='W3')\n",
    "            self.l3.b = Parameter(np.zeros(self.l3.out_size, dtype=self.l3.dtype), name='b3')\n",
    "        \n",
    "\n",
    "    def forward(self, x):\n",
    "        if mode == 1:\n",
    "            y = F.sigmoid(self.l1(x))\n",
    "            y = self.l2(y)\n",
    "\n",
    "        if mode == 2:\n",
    "            y = F.sigmoid(self.l1(x))\n",
    "            y = F.sigmoid(self.l2(x))\n",
    "            y = self.l3(y)\n",
    "        \n",
    "        return y\n",
    "\n",
    "\n",
    "class QLearningAgent:\n",
    "    def __init__(self):\n",
    "        self.gamma = 0.9\n",
    "        self.lr = 0.01\n",
    "        self.epsilon = 0.1\n",
    "        self.action_size = 4\n",
    "\n",
    "        self.qnet = QNet()\n",
    "        self.optimizer = optimizers.SGD(self.lr)\n",
    "        self.optimizer.setup(self.qnet)\n",
    "\n",
    "    def get_action(self, state_vec):\n",
    "        if np.random.rand() < self.epsilon:\n",
    "            return np.random.choice(self.action_size)\n",
    "        else:\n",
    "            qs = self.qnet(state_vec)\n",
    "            return qs.data.argmax()\n",
    "\n",
    "    def update(self, state, action, reward, next_state, done):\n",
    "        if done:\n",
    "            next_q = np.zeros(1)  # [0.]\n",
    "        else:\n",
    "            next_qs = self.qnet(next_state)\n",
    "            next_q = next_qs.max(axis=1)\n",
    "            next_q.unchain()\n",
    "\n",
    "        target = self.gamma * next_q + reward\n",
    "        qs = self.qnet(state)\n",
    "        q = qs[:, action]\n",
    "        loss = F.mean_squared_error(target, q)\n",
    "\n",
    "        self.qnet.cleargrads()\n",
    "        loss.backward()\n",
    "        self.optimizer.update()\n",
    "\n",
    "        return loss.data"
   ]
  },
  {
   "cell_type": "code",
   "execution_count": 40,
   "metadata": {},
   "outputs": [
    {
     "data": {
      "image/png": "[encoded data removed]",
      "text/plain": [
       "<Figure size 640x480 with 1 Axes>"
      ]
     },
     "metadata": {},
     "output_type": "display_data"
    },
    {
     "data": {
      "image/png": "[encoded data removed]",
      "text/plain": [
       "<Figure size 640x480 with 1 Axes>"
      ]
     },
     "metadata": {},
     "output_type": "display_data"
    },
    {
     "data": {
      "image/png": "[encoded data removed]",
      "text/plain": [
       "<Figure size 640x480 with 1 Axes>"
      ]
     },
     "metadata": {},
     "output_type": "display_data"
    },
    {
     "data": {
      "image/png": "[encoded data removed]",
      "text/plain": [
       "<Figure size 640x480 with 1 Axes>"
      ]
     },
     "metadata": {},
     "output_type": "display_data"
    }
   ],
   "source": [
    "env = GridWorld()\n",
    "agent = QLearningAgent()\n",
    "\n",
    "episodes = 1000\n",
    "loss_history = []\n",
    "cnt_history = []\n",
    "\n",
    "for episode in range(episodes):\n",
    "    state = env.reset()\n",
    "    state = one_hot(state)\n",
    "    total_loss, cnt = 0, 0\n",
    "    done = False\n",
    "\n",
    "    while not done:\n",
    "        action = agent.get_action(state)\n",
    "        next_state, reward, done = env.step(action)\n",
    "        next_state = one_hot(next_state)\n",
    "\n",
    "        loss = agent.update(state, action, reward, next_state, done)\n",
    "        total_loss += loss\n",
    "        cnt += 1\n",
    "        state = next_state\n",
    "\n",
    "    average_loss = total_loss / cnt\n",
    "    \n",
    "    \n",
    "    # if episode % 100 == 0 or episode < 50:\n",
    "    #     print(cnt)\n",
    "    cnt_history.append(cnt)\n",
    "\n",
    "    loss_history.append(average_loss)\n",
    "\n",
    "\n",
    "plt.xlabel('episode')\n",
    "plt.ylabel('loss')\n",
    "plt.plot(range(len(loss_history)), loss_history)\n",
    "plt.show()\n",
    "\n",
    "plt.xlabel('episode')\n",
    "plt.ylabel('cnt')\n",
    "plt.plot(range(len(cnt_history)), cnt_history)\n",
    "plt.show()\n",
    "\n",
    "# visualize\n",
    "Q = {}\n",
    "for state in env.states():\n",
    "    for action in env.action_space:\n",
    "        q = agent.qnet(one_hot(state))[:, action]\n",
    "        Q[state, action] = float(q.data)\n",
    "env.render_q(Q)"
   ]
  },
  {
   "cell_type": "code",
   "execution_count": null,
   "metadata": {},
   "outputs": [],
   "source": []
  },
  {
   "cell_type": "code",
   "execution_count": null,
   "metadata": {},
   "outputs": [],
   "source": []
  },
  {
   "cell_type": "code",
   "execution_count": null,
   "metadata": {},
   "outputs": [],
   "source": []
  }
 ],
 "metadata": {
  "kernelspec": {
   "display_name": "tf-gpu",
   "language": "python",
   "name": "python3"
  },
  "language_info": {
   "codemirror_mode": {
    "name": "ipython",
    "version": 3
   },
   "file_extension": ".py",
   "mimetype": "text/x-python",
   "name": "python",
   "nbconvert_exporter": "python",
   "pygments_lexer": "ipython3",
   "version": "3.9.17"
  },
  "orig_nbformat": 4
 },
 "nbformat": 4,
 "nbformat_minor": 2
}
